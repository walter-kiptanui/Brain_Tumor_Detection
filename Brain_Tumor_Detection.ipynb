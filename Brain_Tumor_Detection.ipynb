{
 "cells": [
  {
   "cell_type": "code",
   "execution_count": 1,
   "id": "7521d98b",
   "metadata": {},
   "outputs": [],
   "source": [
    "import tensorflow as tf\n",
    "import os\n",
    "os.environ[\"CUDA_DEVICE_ORDER\"] = \"PCI_BUS_ID\"  # see issue #152\n",
    "os.environ['CUDA_VISIBLE_DEVICES'] = '0'  # -1  to USE CPU\n",
    "from tensorflow.keras.preprocessing.image import ImageDataGenerator\n",
    "from tensorflow.keras.preprocessing import image\n",
    "from keras.layers import Conv2D, Input, ZeroPadding2D, BatchNormalization, Activation, MaxPooling2D, Flatten, Dense,Dropout\n",
    "from keras.models import Model, load_model\n",
    "from keras.callbacks import TensorBoard, ModelCheckpoint, ReduceLROnPlateau\n",
    "from sklearn.model_selection import train_test_split\n",
    "from sklearn.metrics import f1_score\n",
    "from sklearn.utils import shuffle\n",
    "from PIL import Image\n",
    "from keras import Sequential,models,layers\n",
    "import cv2\n",
    "#import imutils\n",
    "import numpy as np\n",
    "import matplotlib.pyplot as plt\n",
    "import time\n",
    "from os import listdir\n",
    "import scipy\n",
    "import glob\n",
    "\n",
    "get_ipython().magic(u'matplotlib inline')"
   ]
  },
  {
   "cell_type": "code",
   "execution_count": 3,
   "id": "e413f29a",
   "metadata": {},
   "outputs": [],
   "source": [
    "#Get the path of files\n",
    "img_dir='C:/Users/kiptanui/Downloads/Compressed/MRI Dataset/brain_tumor_dataset/'\n",
    "no_images=os.listdir(img_dir + 'no/')\n",
    "yes_images=os.listdir(img_dir + 'yes/')"
   ]
  },
  {
   "cell_type": "code",
   "execution_count": 4,
   "id": "cc0a0d2f",
   "metadata": {},
   "outputs": [],
   "source": [
    "no_images"
   ]
  },
  {
   "cell_type": "code",
   "execution_count": 5,
   "id": "5e8f1799",
   "metadata": {},
   "outputs": [],
   "source": [
    "#initialize dataset and label arrays\n",
    "datset=[]\n",
    "lab=[]"
   ]
  },
  {
   "cell_type": "code",
   "execution_count": 7,
   "id": "ecec3478",
   "metadata": {},
   "outputs": [],
   "source": [
    "#loop over each image in each category\n",
    "\n",
    "#for images labelled with no\n",
    "for image_name in no_images:\n",
    "    image=cv2.imread(img_dir + 'no/' +image_name)\n",
    "    image=Image.fromarray(image,'RGB')\n",
    "    image=image.resize((64,64))\n",
    "    datset.append(np.array(image))\n",
    "    lab.append(0)\n",
    "    \n",
    "#for images labelled with yes\n",
    "for image_name in yes_images:\n",
    "    image=cv2.imread(img_dir + 'yes/' +image_name)\n",
    "    image=Image.fromarray(image,'RGB')\n",
    "    image=image.resize((64,64))\n",
    "    datset.append(np.array(image))\n",
    "    lab.append(1)\n",
    "    \n",
    "#convert dataset and label to numpy to array    \n",
    "data=np.asarray(datset)\n",
    "l=np.asarray(lab)\n",
    "\n",
    "#convert dataset and label to numpy to array    \n",
    "data=np.asarray(datset)\n",
    "l=np.asarray(lab)"
   ]
  },
  {
   "cell_type": "code",
   "execution_count": 8,
   "id": "ad3e29ae",
   "metadata": {},
   "outputs": [
    {
     "name": "stdout",
     "output_type": "stream",
     "text": [
      "(253, 64, 64, 3) (253,)\n"
     ]
    }
   ],
   "source": [
    "print(data.shape, l.shape)"
   ]
  },
  {
   "cell_type": "code",
   "execution_count": 9,
   "id": "d077798a",
   "metadata": {},
   "outputs": [
    {
     "data": {
      "text/plain": [
       "<matplotlib.image.AxesImage at 0x27a154908e0>"
      ]
     },
     "execution_count": 9,
     "metadata": {},
     "output_type": "execute_result"
    },
    {
     "data": {
      "image/png": "[encoded data removed]",
      "text/plain": [
       "<Figure size 432x288 with 1 Axes>"
      ]
     },
     "metadata": {
      "needs_background": "light"
     },
     "output_type": "display_data"
    }
   ],
   "source": [
    "plt.imshow(data[3])"
   ]
  },
  {
   "cell_type": "code",
   "execution_count": 10,
   "id": "4ba99918",
   "metadata": {},
   "outputs": [
    {
     "name": "stdout",
     "output_type": "stream",
     "text": [
      "(202, 64, 64, 3)\n",
      "(202,)\n"
     ]
    }
   ],
   "source": [
    "from sklearn.model_selection import train_test_split\n",
    "X_train,X_test,y_train,y_test=train_test_split(data,l,test_size=0.2,random_state=42)\n",
    "print(X_train.shape)\n",
    "print(y_train.shape)"
   ]
  },
  {
   "cell_type": "markdown",
   "id": "7e94c37c",
   "metadata": {},
   "source": [
    "Model Training"
   ]
  },
  {
   "cell_type": "code",
   "execution_count": 12,
   "id": "c7c7ac4e",
   "metadata": {},
   "outputs": [
    {
     "name": "stdout",
     "output_type": "stream",
     "text": [
      "Model: \"sequential\"\n",
      "_________________________________________________________________\n",
      " Layer (type)                Output Shape              Param #   \n",
      "=================================================================\n",
      " conv2d (Conv2D)             (None, 62, 62, 50)        1400      \n",
      "                                                                 \n",
      " max_pooling2d (MaxPooling2D  (None, 31, 31, 50)       0         \n",
      " )                                                               \n",
      "                                                                 \n",
      " conv2d_1 (Conv2D)           (None, 29, 29, 64)        28864     \n",
      "                                                                 \n",
      " max_pooling2d_1 (MaxPooling  (None, 14, 14, 64)       0         \n",
      " 2D)                                                             \n",
      "                                                                 \n",
      " conv2d_2 (Conv2D)           (None, 12, 12, 54)        31158     \n",
      "                                                                 \n",
      " max_pooling2d_2 (MaxPooling  (None, 6, 6, 54)         0         \n",
      " 2D)                                                             \n",
      "                                                                 \n",
      " flatten (Flatten)           (None, 1944)              0         \n",
      "                                                                 \n",
      " dense (Dense)               (None, 64)                124480    \n",
      "                                                                 \n",
      " dense_1 (Dense)             (None, 2)                 130       \n",
      "                                                                 \n",
      "=================================================================\n",
      "Total params: 186,032\n",
      "Trainable params: 186,032\n",
      "Non-trainable params: 0\n",
      "_________________________________________________________________\n"
     ]
    }
   ],
   "source": [
    "model=Sequential([\n",
    "                     \n",
    "                     #cnn\n",
    "                    layers.Conv2D(50,(3,3),activation=\"relu\",input_shape=(64,64,3)),\n",
    "                    layers.MaxPooling2D((2,2)),\n",
    "     \n",
    "                    layers.Conv2D(64,(3,3),activation=\"relu\"),\n",
    "                    layers.MaxPooling2D((2,2)),\n",
    "    \n",
    "                    layers.Conv2D(54,(3,3),activation=\"relu\"),\n",
    "                    layers.MaxPooling2D((2,2)),\n",
    "    \n",
    "                     #dense_layer\n",
    "                     layers.Flatten(),\n",
    "                     layers.Dense(64,activation=\"relu\"),\n",
    "                     layers.Dense(2,activation=\"softmax\")\n",
    "\n",
    "])\n",
    "model.summary()"
   ]
  },
  {
   "cell_type": "code",
   "execution_count": 16,
   "id": "5db890d9",
   "metadata": {},
   "outputs": [
    {
     "name": "stdout",
     "output_type": "stream",
     "text": [
      "You must install pydot (`pip install pydot`) and install graphviz (see instructions at https://graphviz.gitlab.io/download/) for plot_model to work.\n"
     ]
    }
   ],
   "source": [
    "tf.keras.utils.plot_model(model,to_file=\"model.png\",\n",
    "                          show_shapes=True,\n",
    "                          expand_nested=True)"
   ]
  },
  {
   "cell_type": "code",
   "execution_count": 15,
   "id": "f166b27f",
   "metadata": {},
   "outputs": [
    {
     "name": "stdout",
     "output_type": "stream",
     "text": [
      "Epoch 1/30\n",
      "7/7 [==============================] - 3s 93ms/step - loss: 15.7015 - accuracy: 0.5495\n",
      "Epoch 2/30\n",
      "7/7 [==============================] - 1s 102ms/step - loss: 2.4843 - accuracy: 0.6436\n",
      "Epoch 3/30\n",
      "7/7 [==============================] - 1s 101ms/step - loss: 1.8539 - accuracy: 0.6238\n",
      "Epoch 4/30\n",
      "7/7 [==============================] - 1s 102ms/step - loss: 0.6490 - accuracy: 0.7277\n",
      "Epoch 5/30\n",
      "7/7 [==============================] - 1s 103ms/step - loss: 0.4925 - accuracy: 0.7772\n",
      "Epoch 6/30\n",
      "7/7 [==============================] - 1s 102ms/step - loss: 0.3922 - accuracy: 0.8119\n",
      "Epoch 7/30\n",
      "7/7 [==============================] - 1s 109ms/step - loss: 0.3474 - accuracy: 0.8366\n",
      "Epoch 8/30\n",
      "7/7 [==============================] - 1s 101ms/step - loss: 0.3188 - accuracy: 0.8762\n",
      "Epoch 9/30\n",
      "7/7 [==============================] - 1s 101ms/step - loss: 0.2964 - accuracy: 0.8762\n",
      "Epoch 10/30\n",
      "7/7 [==============================] - 1s 103ms/step - loss: 0.2477 - accuracy: 0.9010\n",
      "Epoch 11/30\n",
      "7/7 [==============================] - 1s 101ms/step - loss: 0.2227 - accuracy: 0.9158\n",
      "Epoch 12/30\n",
      "7/7 [==============================] - 1s 101ms/step - loss: 0.1953 - accuracy: 0.9257\n",
      "Epoch 13/30\n",
      "7/7 [==============================] - 1s 108ms/step - loss: 0.1578 - accuracy: 0.9554\n",
      "Epoch 14/30\n",
      "7/7 [==============================] - 1s 102ms/step - loss: 0.1539 - accuracy: 0.9604\n",
      "Epoch 15/30\n",
      "7/7 [==============================] - 1s 107ms/step - loss: 0.1501 - accuracy: 0.9505\n",
      "Epoch 16/30\n",
      "7/7 [==============================] - 1s 111ms/step - loss: 0.1060 - accuracy: 0.9653\n",
      "Epoch 17/30\n",
      "7/7 [==============================] - 1s 107ms/step - loss: 0.0787 - accuracy: 0.9901\n",
      "Epoch 18/30\n",
      "7/7 [==============================] - 1s 111ms/step - loss: 0.0718 - accuracy: 0.9851\n",
      "Epoch 19/30\n",
      "7/7 [==============================] - 1s 107ms/step - loss: 0.0538 - accuracy: 1.0000\n",
      "Epoch 20/30\n",
      "7/7 [==============================] - 1s 102ms/step - loss: 0.0420 - accuracy: 1.0000\n",
      "Epoch 21/30\n",
      "7/7 [==============================] - 1s 107ms/step - loss: 0.0349 - accuracy: 1.0000\n",
      "Epoch 22/30\n",
      "7/7 [==============================] - 1s 105ms/step - loss: 0.0269 - accuracy: 1.0000\n",
      "Epoch 23/30\n",
      "7/7 [==============================] - 1s 105ms/step - loss: 0.0237 - accuracy: 1.0000\n",
      "Epoch 24/30\n",
      "7/7 [==============================] - 1s 107ms/step - loss: 0.0205 - accuracy: 1.0000\n",
      "Epoch 25/30\n",
      "7/7 [==============================] - 1s 102ms/step - loss: 0.0159 - accuracy: 1.0000\n",
      "Epoch 26/30\n",
      "7/7 [==============================] - 1s 113ms/step - loss: 0.0123 - accuracy: 1.0000\n",
      "Epoch 27/30\n",
      "7/7 [==============================] - 1s 108ms/step - loss: 0.0101 - accuracy: 1.0000\n",
      "Epoch 28/30\n",
      "7/7 [==============================] - 1s 104ms/step - loss: 0.0081 - accuracy: 1.0000\n",
      "Epoch 29/30\n",
      "7/7 [==============================] - 1s 103ms/step - loss: 0.0067 - accuracy: 1.0000\n",
      "Epoch 30/30\n",
      "7/7 [==============================] - 1s 101ms/step - loss: 0.0064 - accuracy: 1.0000\n"
     ]
    },
    {
     "data": {
      "text/plain": [
       "<keras.callbacks.History at 0x27a175c57f0>"
      ]
     },
     "execution_count": 15,
     "metadata": {},
     "output_type": "execute_result"
    }
   ],
   "source": [
    "model.compile(optimizer=\"adam\", loss=\"sparse_categorical_crossentropy\", metrics=[\"accuracy\"])\n",
    "model.fit(X_train,y_train,epochs=30)"
   ]
  },
  {
   "cell_type": "markdown",
   "id": "033ebbae",
   "metadata": {},
   "source": [
    "Preparing images for prediction"
   ]
  },
  {
   "cell_type": "code",
   "execution_count": 19,
   "id": "9cd43f4b",
   "metadata": {},
   "outputs": [
    {
     "ename": "AttributeError",
     "evalue": "'NoneType' object has no attribute '__array_interface__'",
     "output_type": "error",
     "traceback": [
      "\u001b[1;31m---------------------------------------------------------------------------\u001b[0m",
      "\u001b[1;31mAttributeError\u001b[0m                            Traceback (most recent call last)",
      "\u001b[1;32m<ipython-input-19-169f71d711fc>\u001b[0m in \u001b[0;36m<module>\u001b[1;34m\u001b[0m\n\u001b[0;32m      4\u001b[0m \u001b[1;32mfor\u001b[0m \u001b[0mimage_name\u001b[0m \u001b[1;32min\u001b[0m \u001b[0mpred_images\u001b[0m\u001b[1;33m:\u001b[0m\u001b[1;33m\u001b[0m\u001b[1;33m\u001b[0m\u001b[0m\n\u001b[0;32m      5\u001b[0m     \u001b[0mimage\u001b[0m\u001b[1;33m=\u001b[0m\u001b[0mcv2\u001b[0m\u001b[1;33m.\u001b[0m\u001b[0mimread\u001b[0m\u001b[1;33m(\u001b[0m\u001b[0mimg_dir\u001b[0m \u001b[1;33m+\u001b[0m\u001b[1;34m'pred/'\u001b[0m\u001b[1;33m+\u001b[0m \u001b[0mimage_name\u001b[0m\u001b[1;33m)\u001b[0m\u001b[1;33m\u001b[0m\u001b[1;33m\u001b[0m\u001b[0m\n\u001b[1;32m----> 6\u001b[1;33m     \u001b[0mimage\u001b[0m\u001b[1;33m=\u001b[0m\u001b[0mImage\u001b[0m\u001b[1;33m.\u001b[0m\u001b[0mfromarray\u001b[0m\u001b[1;33m(\u001b[0m\u001b[0mimage\u001b[0m\u001b[1;33m,\u001b[0m\u001b[1;34m'RGB'\u001b[0m\u001b[1;33m)\u001b[0m\u001b[1;33m\u001b[0m\u001b[1;33m\u001b[0m\u001b[0m\n\u001b[0m\u001b[0;32m      7\u001b[0m     \u001b[0mimage\u001b[0m\u001b[1;33m=\u001b[0m\u001b[0mimage\u001b[0m\u001b[1;33m.\u001b[0m\u001b[0mresize\u001b[0m\u001b[1;33m(\u001b[0m\u001b[1;33m(\u001b[0m\u001b[1;36m64\u001b[0m\u001b[1;33m,\u001b[0m\u001b[1;36m64\u001b[0m\u001b[1;33m)\u001b[0m\u001b[1;33m)\u001b[0m\u001b[1;33m\u001b[0m\u001b[1;33m\u001b[0m\u001b[0m\n\u001b[0;32m      8\u001b[0m     \u001b[0mpred_set\u001b[0m\u001b[1;33m.\u001b[0m\u001b[0mappend\u001b[0m\u001b[1;33m(\u001b[0m\u001b[0mnp\u001b[0m\u001b[1;33m.\u001b[0m\u001b[0marray\u001b[0m\u001b[1;33m(\u001b[0m\u001b[0mimage\u001b[0m\u001b[1;33m)\u001b[0m\u001b[1;33m)\u001b[0m\u001b[1;33m\u001b[0m\u001b[1;33m\u001b[0m\u001b[0m\n",
      "\u001b[1;32m~\\anaconda3\\lib\\site-packages\\PIL\\Image.py\u001b[0m in \u001b[0;36mfromarray\u001b[1;34m(obj, mode)\u001b[0m\n\u001b[0;32m   2760\u001b[0m     \u001b[1;33m.\u001b[0m\u001b[1;33m.\u001b[0m \u001b[0mversionadded\u001b[0m\u001b[1;33m:\u001b[0m\u001b[1;33m:\u001b[0m \u001b[1;36m1.1\u001b[0m\u001b[1;36m.6\u001b[0m\u001b[1;33m\u001b[0m\u001b[1;33m\u001b[0m\u001b[0m\n\u001b[0;32m   2761\u001b[0m     \"\"\"\n\u001b[1;32m-> 2762\u001b[1;33m     \u001b[0marr\u001b[0m \u001b[1;33m=\u001b[0m \u001b[0mobj\u001b[0m\u001b[1;33m.\u001b[0m\u001b[0m__array_interface__\u001b[0m\u001b[1;33m\u001b[0m\u001b[1;33m\u001b[0m\u001b[0m\n\u001b[0m\u001b[0;32m   2763\u001b[0m     \u001b[0mshape\u001b[0m \u001b[1;33m=\u001b[0m \u001b[0marr\u001b[0m\u001b[1;33m[\u001b[0m\u001b[1;34m\"shape\"\u001b[0m\u001b[1;33m]\u001b[0m\u001b[1;33m\u001b[0m\u001b[1;33m\u001b[0m\u001b[0m\n\u001b[0;32m   2764\u001b[0m     \u001b[0mndim\u001b[0m \u001b[1;33m=\u001b[0m \u001b[0mlen\u001b[0m\u001b[1;33m(\u001b[0m\u001b[0mshape\u001b[0m\u001b[1;33m)\u001b[0m\u001b[1;33m\u001b[0m\u001b[1;33m\u001b[0m\u001b[0m\n",
      "\u001b[1;31mAttributeError\u001b[0m: 'NoneType' object has no attribute '__array_interface__'"
     ]
    }
   ],
   "source": [
    "pred_set=[]\n",
    "pred_dir = 'C:/Users/kiptanui/Downloads/Compressed/MRI Dataset/'\n",
    "pred_images=os.listdir(pred_dir +'pred/')\n",
    "for image_name in pred_images:    \n",
    "    image=cv2.imread(img_dir +'pred/'+ image_name)\n",
    "    image=Image.fromarray(image,'RGB')\n",
    "    image=image.resize((64,64))\n",
    "    pred_set.append(np.array(image))\n",
    "pred=np.asarray(pred_set)"
   ]
  },
  {
   "cell_type": "code",
   "execution_count": 16,
   "id": "d10375a8",
   "metadata": {},
   "outputs": [
    {
     "name": "stdout",
     "output_type": "stream",
     "text": [
      "2/2 [==============================] - 0s 21ms/step\n"
     ]
    }
   ],
   "source": [
    "prediction=model.predict(X_test)\n",
    "prediction=np.argmax(prediction,axis=1)"
   ]
  },
  {
   "cell_type": "code",
   "execution_count": 17,
   "id": "5c9d0526",
   "metadata": {},
   "outputs": [
    {
     "data": {
      "text/plain": [
       "0.8627450980392157"
      ]
     },
     "execution_count": 17,
     "metadata": {},
     "output_type": "execute_result"
    }
   ],
   "source": [
    "from sklearn.metrics import accuracy_score\n",
    "accuracy_score(prediction,y_test)"
   ]
  },
  {
   "cell_type": "code",
   "execution_count": null,
   "id": "c8d04426",
   "metadata": {},
   "outputs": [],
   "source": []
  },
  {
   "cell_type": "code",
   "execution_count": 1,
   "id": "d5755475",
   "metadata": {},
   "outputs": [],
   "source": [
    "import numpy as np\n",
    "import pandas as pd\n",
    "import matplotlib.pyplot as plt\n",
    "from sklearn.model_selection import train_test_split\n",
    "from sklearn.metrics import accuracy_score"
   ]
  },
  {
   "cell_type": "markdown",
   "id": "f5ac55d5",
   "metadata": {},
   "source": [
    "Prepare/collect data"
   ]
  },
  {
   "cell_type": "code",
   "execution_count": 2,
   "id": "3843a82b",
   "metadata": {},
   "outputs": [],
   "source": [
    "import os\n",
    "\n",
    "path = os.listdir('C:/Users/kiptanui/Downloads/Compressed/MRI Dataset/brain_tumor_dataset/')\n",
    "classes = {'no':0, 'yes':1}"
   ]
  },
  {
   "cell_type": "code",
   "execution_count": 3,
   "id": "b36f0533",
   "metadata": {},
   "outputs": [],
   "source": [
    "import cv2\n",
    "X = []\n",
    "Y = []\n",
    "for cls in classes:\n",
    "    pth = 'C:/Users/kiptanui/Downloads/Compressed/MRI Dataset/brain_tumor_dataset/'+cls\n",
    "    for j in os.listdir(pth):\n",
    "        img = cv2.imread(pth+'/'+j, 0)\n",
    "        img = cv2.resize(img, (200,200))\n",
    "        X.append(img)\n",
    "        Y.append(classes[cls])"
   ]
  },
  {
   "cell_type": "code",
   "execution_count": 4,
   "id": "a0073bdf",
   "metadata": {},
   "outputs": [],
   "source": [
    "X = np.array(X)\n",
    "Y = np.array(Y)\n",
    "\n",
    "X_updated = X.reshape(len(X), -1)"
   ]
  },
  {
   "cell_type": "code",
   "execution_count": 5,
   "id": "ff331d77",
   "metadata": {},
   "outputs": [
    {
     "data": {
      "text/plain": [
       "array([0, 1])"
      ]
     },
     "execution_count": 5,
     "metadata": {},
     "output_type": "execute_result"
    }
   ],
   "source": [
    "np.unique(Y)"
   ]
  },
  {
   "cell_type": "code",
   "execution_count": 6,
   "id": "52c0f850",
   "metadata": {},
   "outputs": [
    {
     "data": {
      "text/plain": [
       "1    155\n",
       "0     98\n",
       "dtype: int64"
      ]
     },
     "execution_count": 6,
     "metadata": {},
     "output_type": "execute_result"
    }
   ],
   "source": [
    "pd.Series(Y).value_counts()"
   ]
  },
  {
   "cell_type": "code",
   "execution_count": 7,
   "id": "845bcfa5",
   "metadata": {},
   "outputs": [
    {
     "data": {
      "text/plain": [
       "((253, 200, 200), (253, 40000))"
      ]
     },
     "execution_count": 7,
     "metadata": {},
     "output_type": "execute_result"
    }
   ],
   "source": [
    "X.shape, X_updated.shape"
   ]
  },
  {
   "cell_type": "markdown",
   "id": "7ef37eed",
   "metadata": {},
   "source": [
    "Visualize data"
   ]
  },
  {
   "cell_type": "code",
   "execution_count": 8,
   "id": "b3948ab1",
   "metadata": {},
   "outputs": [
    {
     "data": {
      "text/plain": [
       "<matplotlib.image.AxesImage at 0x215e8825730>"
      ]
     },
     "execution_count": 8,
     "metadata": {},
     "output_type": "execute_result"
    },
    {
     "data": {
      "image/png": "[encoded data removed]",
      "text/plain": [
       "<Figure size 432x288 with 1 Axes>"
      ]
     },
     "metadata": {
      "needs_background": "light"
     },
     "output_type": "display_data"
    }
   ],
   "source": [
    "plt.imshow(X[0], cmap='gray')"
   ]
  },
  {
   "cell_type": "markdown",
   "id": "2b67e148",
   "metadata": {},
   "source": [
    "Split Data"
   ]
  },
  {
   "cell_type": "code",
   "execution_count": 9,
   "id": "378688ff",
   "metadata": {},
   "outputs": [],
   "source": [
    "xtrain, xtest, ytrain, ytest = train_test_split(X_updated, Y, random_state=47,\n",
    "                                               test_size=0.2)"
   ]
  },
  {
   "cell_type": "code",
   "execution_count": 10,
   "id": "cc28d0ab",
   "metadata": {},
   "outputs": [
    {
     "data": {
      "text/plain": [
       "((202, 40000), (51, 40000))"
      ]
     },
     "execution_count": 10,
     "metadata": {},
     "output_type": "execute_result"
    }
   ],
   "source": [
    "xtrain.shape, xtest.shape"
   ]
  },
  {
   "cell_type": "markdown",
   "id": "289779a6",
   "metadata": {},
   "source": [
    "Feature Scaling"
   ]
  },
  {
   "cell_type": "code",
   "execution_count": 11,
   "id": "7dcd1e6d",
   "metadata": {},
   "outputs": [
    {
     "name": "stdout",
     "output_type": "stream",
     "text": [
      "255 0\n",
      "255 0\n",
      "1.0 0.0\n",
      "1.0 0.0\n"
     ]
    }
   ],
   "source": [
    "print(xtrain.max(), xtrain.min())\n",
    "print(xtest.max(), xtest.min())\n",
    "xtrain = xtrain/255\n",
    "xtest = xtest/255\n",
    "print(xtrain.max(), xtrain.min())\n",
    "print(xtest.max(), xtest.min())"
   ]
  },
  {
   "cell_type": "markdown",
   "id": "52d121af",
   "metadata": {},
   "source": [
    "Feature Selection: PCA"
   ]
  },
  {
   "cell_type": "code",
   "execution_count": 12,
   "id": "6c896dbb",
   "metadata": {},
   "outputs": [],
   "source": [
    "from sklearn.decomposition import PCA"
   ]
  },
  {
   "cell_type": "code",
   "execution_count": 13,
   "id": "9cea93e2",
   "metadata": {},
   "outputs": [
    {
     "name": "stdout",
     "output_type": "stream",
     "text": [
      "(202, 40000) (51, 40000)\n"
     ]
    }
   ],
   "source": [
    "print(xtrain.shape, xtest.shape)\n",
    "\n",
    "pca = PCA(.98)\n",
    "# pca_train = pca.fit_transform(xtrain)\n",
    "# pca_test = pca.transform(xtest)\n",
    "pca_train = xtrain\n",
    "pca_test = xtest"
   ]
  },
  {
   "cell_type": "markdown",
   "id": "fc3433c8",
   "metadata": {},
   "source": [
    "Train Model"
   ]
  },
  {
   "cell_type": "code",
   "execution_count": 16,
   "id": "fa07868c",
   "metadata": {},
   "outputs": [],
   "source": [
    "from sklearn.ensemble import RandomForestClassifier\n",
    "from sklearn import metrics"
   ]
  },
  {
   "cell_type": "code",
   "execution_count": 17,
   "id": "47f7c497",
   "metadata": {},
   "outputs": [
    {
     "name": "stdout",
     "output_type": "stream",
     "text": [
      "              precision    recall  f1-score   support\n",
      "\n",
      "           0       0.92      0.82      0.87        28\n",
      "           1       0.81      0.91      0.86        23\n",
      "\n",
      "    accuracy                           0.86        51\n",
      "   macro avg       0.86      0.87      0.86        51\n",
      "weighted avg       0.87      0.86      0.86        51\n",
      "\n"
     ]
    }
   ],
   "source": [
    "#fit RandomforestClassifier model on train data\n",
    "model = RandomForestClassifier()\n",
    "model.fit(xtrain, ytrain)\n",
    "preds = model.predict(xtest)\n",
    "print(metrics.classification_report(ytest, preds))"
   ]
  },
  {
   "cell_type": "code",
   "execution_count": 18,
   "id": "8841ec70",
   "metadata": {},
   "outputs": [
    {
     "name": "stdout",
     "output_type": "stream",
     "text": [
      "[0 0 1 0 0 0 1 1 1 1 1 1 1 0 0 1 0 0 1 1 0 0 1 1 1 0 0 0 0 0 1 0 1 0 1 1 1\n",
      " 1 0 0 1 0 0 1 0 1 0 0 1 1 1]\n"
     ]
    }
   ],
   "source": [
    "print(preds)"
   ]
  },
  {
   "cell_type": "code",
   "execution_count": null,
   "id": "ce5c8f3e",
   "metadata": {},
   "outputs": [],
   "source": []
  }
 ],
 "metadata": {
  "kernelspec": {
   "display_name": "Python 3",
   "language": "python",
   "name": "python3"
  },
  "language_info": {
   "codemirror_mode": {
    "name": "ipython",
    "version": 3
   },
   "file_extension": ".py",
   "mimetype": "text/x-python",
   "name": "python",
   "nbconvert_exporter": "python",
   "pygments_lexer": "ipython3",
   "version": "3.8.8"
  }
 },
 "nbformat": 4,
 "nbformat_minor": 5
}
